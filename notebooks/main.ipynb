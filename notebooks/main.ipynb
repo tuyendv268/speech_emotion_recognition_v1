{
 "cells": [
  {
   "cell_type": "code",
   "execution_count": null,
   "metadata": {},
   "outputs": [],
   "source": [
    "import pandas as pd"
   ]
  },
  {
   "cell_type": "code",
   "execution_count": null,
   "metadata": {},
   "outputs": [],
   "source": [
    "path = \"/home/tuyendv/Desktop/speech_emotion_recognition_v1/datas/tth_label.txt\"\n",
    "\n",
    "data_df = pd.read_csv(path, sep=\"|\", names=[\"id\", \"text\", \"label\"], dtype={\"id\":str, \"text\":str, \"label\":str})"
   ]
  },
  {
   "cell_type": "code",
   "execution_count": null,
   "metadata": {},
   "outputs": [],
   "source": [
    "data_df.head()"
   ]
  },
  {
   "cell_type": "code",
   "execution_count": null,
   "metadata": {},
   "outputs": [],
   "source": [
    "data_df[\"length\"] = data_df.text.apply(lambda x: len(x.split()))"
   ]
  },
  {
   "cell_type": "code",
   "execution_count": null,
   "metadata": {},
   "outputs": [],
   "source": [
    "news_data = []\n",
    "for name, group in data_df.sort_values(by=\"length\", ascending=False).groupby(\"label\"):\n",
    "    news_data.append(group.iloc[0:475])"
   ]
  },
  {
   "cell_type": "code",
   "execution_count": null,
   "metadata": {},
   "outputs": [],
   "source": [
    "pd.concat(news_data)[[\"id\", \"text\", \"label\"]].to_csv(\"tth_label.txt\", sep=\"|\", columns=None, index=None)"
   ]
  },
  {
   "cell_type": "code",
   "execution_count": null,
   "metadata": {},
   "outputs": [],
   "source": [
    "import librosa\n",
    "import numpy as np\n",
    "from pydub import AudioSegment\n",
    "import soundfile as sf\n",
    "from src.utils import padding_audio"
   ]
  },
  {
   "cell_type": "code",
   "execution_count": null,
   "metadata": {},
   "outputs": [],
   "source": [
    "class Data_Preprocessor():\n",
    "    def __init__(self, data_config, general_config):\n",
    "        self.data_config = data_config\n",
    "        self.general_config = general_config\n",
    "        \n",
    "        self.max_signal_length = general_config[\"general\"][\"max_signal_duration\"] * general_config[\"general\"][\"sample_rate\"]\n",
    "        self.origin_sample_rate = data_config[\"sample_rate\"]\n",
    "        self.sample_rate = general_config[\"general\"][\"sample_rate\"]\n",
    "        \n",
    "    def preprocess(self, path):\n",
    "        wav, _ = librosa.load(path, sr=self.origin_sample_rate)\n",
    "        \n",
    "        wav = librosa.resample(wav, orig_sr=self.origin_sample_rate, \n",
    "                               target_sr=self.sample_rate)\n",
    "        wav = padding_audio(wav, max_signal_length=self.max_signal_length)\n",
    "        \n",
    "        return wav"
   ]
  },
  {
   "cell_type": "code",
   "execution_count": null,
   "metadata": {},
   "outputs": [],
   "source": [
    "def extract_mfcc(wav, config):\n",
    "    mfcc = librosa.feature.mfcc(\n",
    "        y=wav, \n",
    "        sr=int(config[\"sample_rate\"]),\n",
    "        hop_length=int(config[\"hop_length\"]),\n",
    "        win_length=int(config[\"win_length\"]),\n",
    "        n_mfcc=int(config[\"n_mfcc\"]),\n",
    "        fmax=int(config[\"fmax\"]), \n",
    "        fmin=int(config[\"fmin\"]),\n",
    "    )\n",
    "    return mfcc"
   ]
  },
  {
   "cell_type": "code",
   "execution_count": null,
   "metadata": {},
   "outputs": [],
   "source": [
    "class Feature_Extractor():\n",
    "    def __init__(self, config) -> None:\n",
    "        self.config = config\n",
    "    \n",
    "    def extract_mfcc(self, wav):\n",
    "        mfcc = librosa.feature.mfcc(\n",
    "            y=wav, \n",
    "            sr=int(self.config[\"mfcc\"][\"sample_rate\"]),\n",
    "            hop_length=int(self.config[\"mfcc\"][\"hop_length\"]),\n",
    "            win_length=int(self.config[\"mfcc\"][\"win_length\"]),\n",
    "            n_mfcc=int(self.config[\"mfcc\"][\"n_mfcc\"]),\n",
    "            fmax=int(self.config[\"mfcc\"][\"fmax\"]), \n",
    "            fmin=int(self.config[\"mfcc\"][\"fmin\"]))\n",
    "        \n",
    "        return mfcc\n",
    "    \n",
    "    def extract_mel_spectrogram(self, wav):\n",
    "        mel_spectrogram = librosa.feature.melspectrogram(\n",
    "            y=wav, \n",
    "            sr=int(self.config[\"mel\"][\"sample_rate\"]),\n",
    "            hop_length=int(self.config[\"mel\"][\"hop_length\"]),\n",
    "            win_length=int(self.config[\"mel\"][\"win_length\"]),\n",
    "            n_mels=int(self.config[\"mel\"][\"n_mels\"]),\n",
    "            fmax=int(self.config[\"mel\"][\"fmax\"]), \n",
    "            fmin=int(self.config[\"mel\"][\"fmin\"]),)\n",
    "        mel_spectrogram = librosa.power_to_db(mel_spectrogram)\n",
    "        \n",
    "        return mel_spectrogram\n",
    "\n",
    "from yaml.loader import SafeLoader\n",
    "import yaml\n",
    "\n",
    "with open(\"configs/general_config.yml\", \"r\") as f:\n",
    "    config = yaml.load(f, Loader=SafeLoader)\n",
    "feature_extractor = Feature_Extractor(config)"
   ]
  },
  {
   "cell_type": "code",
   "execution_count": null,
   "metadata": {},
   "outputs": [],
   "source": [
    "path = \"/home/tuyendv/Desktop/speech_emotion_recognition/ess_dataset/tth/wavs/000000.wav\"\n",
    "\n",
    "wav, sr = librosa.load(path, sr=22050)\n"
   ]
  },
  {
   "cell_type": "code",
   "execution_count": null,
   "metadata": {},
   "outputs": [],
   "source": [
    "new_wav = padding_audio(wav, 4 * sr)"
   ]
  },
  {
   "cell_type": "code",
   "execution_count": null,
   "metadata": {},
   "outputs": [],
   "source": [
    "sf.write(\"000000.wav\", wav, 22050)"
   ]
  },
  {
   "cell_type": "code",
   "execution_count": null,
   "metadata": {},
   "outputs": [],
   "source": [
    "new_mfcc = feature_extractor.extract_mfcc(new_wav)\n",
    "mfcc = feature_extractor.extract_mfcc(wav)"
   ]
  },
  {
   "cell_type": "code",
   "execution_count": null,
   "metadata": {},
   "outputs": [],
   "source": [
    "import matplotlib.pyplot as plt\n",
    "\n",
    "librosa.display.specshow(new_mfcc, x_axis='time')\n",
    "plt.colorbar()\n",
    "plt.tight_layout()\n",
    "plt.title('mfcc')\n",
    "plt.show"
   ]
  },
  {
   "cell_type": "code",
   "execution_count": null,
   "metadata": {},
   "outputs": [],
   "source": [
    "import matplotlib.pyplot as plt\n",
    "\n",
    "librosa.display.specshow(mfcc, x_axis='time')\n",
    "plt.colorbar()\n",
    "plt.tight_layout()\n",
    "plt.title('mfcc')\n",
    "plt.show"
   ]
  }
 ],
 "metadata": {
  "kernelspec": {
   "display_name": "dl",
   "language": "python",
   "name": "python3"
  },
  "language_info": {
   "codemirror_mode": {
    "name": "ipython",
    "version": 3
   },
   "file_extension": ".py",
   "mimetype": "text/x-python",
   "name": "python",
   "nbconvert_exporter": "python",
   "pygments_lexer": "ipython3",
   "version": "3.8.16"
  },
  "orig_nbformat": 4
 },
 "nbformat": 4,
 "nbformat_minor": 2
}
